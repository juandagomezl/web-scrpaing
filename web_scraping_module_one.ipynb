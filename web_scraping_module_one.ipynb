{
  "nbformat": 4,
  "nbformat_minor": 0,
  "metadata": {
    "colab": {
      "name": "web_scraping_module_one.ipynb",
      "provenance": [],
      "collapsed_sections": [],
      "toc_visible": true,
      "mount_file_id": "1j6i45USMV8iLP-aOX-xHoV0Kz0j6MLo5",
      "authorship_tag": "ABX9TyNUa4mTo09bl6ZSnFLqKHCn",
      "include_colab_link": true
    },
    "kernelspec": {
      "name": "python3",
      "display_name": "Python 3"
    }
  },
  "cells": [
    {
      "cell_type": "markdown",
      "metadata": {
        "id": "view-in-github",
        "colab_type": "text"
      },
      "source": [
        "<a href=\"https://colab.research.google.com/github/juandagomezl/web-scrpaing/blob/main/web_scraping_module_one.ipynb\" target=\"_parent\"><img src=\"https://colab.research.google.com/assets/colab-badge.svg\" alt=\"Open In Colab\"/></a>"
      ]
    },
    {
      "cell_type": "markdown",
      "metadata": {
        "id": "B04JiB3G7wEx"
      },
      "source": [
        "# Web Scraping - Modulo 1"
      ]
    },
    {
      "cell_type": "code",
      "metadata": {
        "id": "kFMyDiF_1MhL"
      },
      "source": [
        "import pandas as pd"
      ],
      "execution_count": null,
      "outputs": []
    },
    {
      "cell_type": "code",
      "metadata": {
        "colab": {
          "base_uri": "https://localhost:8080/"
        },
        "id": "BHr_qP_m7jDJ",
        "outputId": "19094700-3a3f-4a20-f522-8ccf273d993c"
      },
      "source": [
        "name = \"juan\" #@param {type:\"string\"}\r\n",
        "print(name)"
      ],
      "execution_count": null,
      "outputs": [
        {
          "output_type": "stream",
          "text": [
            "juan\n"
          ],
          "name": "stdout"
        }
      ]
    },
    {
      "cell_type": "code",
      "metadata": {
        "id": "FeUEqY-177St"
      },
      "source": [
        ""
      ],
      "execution_count": null,
      "outputs": []
    }
  ]
}